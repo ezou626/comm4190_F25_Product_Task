{
 "cells": [
  {
   "cell_type": "code",
   "execution_count": 14,
   "id": "0c171c53-8cf5-4cdd-9f70-c0738df777aa",
   "metadata": {},
   "outputs": [],
   "source": [
    "from openai import OpenAI\n",
    "import os\n",
    "import re\n",
    "import base64\n",
    "import requests\n",
    "from tqdm import tqdm\n",
    "from tqdm.contrib.concurrent import process_map\n",
    "from IPython.display import FileLink, display\n",
    "from dotenv import load_dotenv\n",
    "from random import shuffle, randint, choice, random\n",
    "from collections import Counter\n",
    "# Load API key\n",
    "_ = load_dotenv(\"../comm4190_F25/01_Introduction_and_setup/.env\")\n",
    "client = OpenAI()"
   ]
  },
  {
   "cell_type": "code",
   "execution_count": 2,
   "id": "3733a37c-3d2b-453b-a580-c0d2e8a07484",
   "metadata": {},
   "outputs": [],
   "source": [
    "# prompt for brainstorming ideas\n",
    "SYSTEM_PROMPT = \"\"\"\n",
    "You are a product design expert in a robotics company identifying new opportunities in the market for innovative consumer gadgets.\n",
    "\n",
    "Please return a list of 10 such items in the following format:\n",
    "1. Item Name\n",
    "- Description\n",
    "- Key Selling Points\n",
    "\"\"\""
   ]
  },
  {
   "cell_type": "code",
   "execution_count": 4,
   "id": "2d70d806-2b5d-4361-88aa-2c887f71242c",
   "metadata": {},
   "outputs": [
    {
     "data": {
      "text/html": [
       "<a href='product_ideas.txt' target='_blank'>product_ideas.txt</a><br>"
      ],
      "text/plain": [
       "/Commjhub/jupyterhub/home/ezou626/comm4190_F25_Product_Task/product_ideas.txt"
      ]
     },
     "execution_count": 4,
     "metadata": {},
     "output_type": "execute_result"
    }
   ],
   "source": [
    "chat_window = [\n",
    "    {\n",
    "        \"role\": \"system\",\n",
    "        \"content\": SYSTEM_PROMPT\n",
    "    }\n",
    "]\n",
    "\n",
    "response = client.chat.completions.create(\n",
    "    model = \"gpt-4o\",\n",
    "    messages = chat_window,\n",
    "    store = False\n",
    ")\n",
    "product_ideas = response.choices[0].message.content\n",
    "filename = 'product_ideas.txt'\n",
    "with open(filename, 'w') as file:\n",
    "    file.write(product_ideas)\n",
    "\n",
    "FileLink(filename)"
   ]
  },
  {
   "cell_type": "code",
   "execution_count": 27,
   "id": "0b886dee-7ec5-4844-a798-6dd9f6350382",
   "metadata": {},
   "outputs": [
    {
     "name": "stdout",
     "output_type": "stream",
     "text": [
      "[('Smart Wardrobe Assistant', 'An AI-driven wardrobe organizer that suggests outfit combinations based on weather, upcoming events, and personal style preferences.', 'Customizable style algorithms, integration with smart mirrors, seasonally updated fashion tips, reduces decision fatigue.'), ('Autonomous Lawn Sculptor', 'A robotic gardener that automatically trims lawns and shapes topiary designs with precision.', 'High precision cutting, customizable topiary designs, eco-friendly operation, reduces need for professional landscaping services.'), ('Remote Pet Pal', 'An interactive pet companion that plays, feeds, and monitors pets remotely via smartphone app.', 'Treat dispensing, live video interaction, health monitoring sensors, reduces worry for busy pet owners.'), ('Sleep Optimization Robot', 'A bedside gadget that analyzes sleep patterns and dynamically adjusts room conditions (lighting, sound, temperature) for optimal rest.', 'Personalized sleep improvements, adaptive ambiance settings, comprehensive sleep tracking, enhances overall wellbeing.'), ('Interactive Language Tutor', 'A portable AI robot that teaches languages through conversation and interactive storytelling.', 'Immersive language practice, varied difficulty levels, engaging storytelling approach, accelerates language acquisition.'), ('Smart Kitchen Companion', 'A counter-top assistant that suggests recipes, adjusts ingredient measurements, and monitors cooking progress.', 'Adaptive recipe suggestions, cooking tutorials, integrates with smart appliances, enhances culinary skills.'), ('AI Personal Safety Drone', 'A pocket-sized drone that accompanies the user to provide real-time monitoring and emergency alerts in potentially dangerous situations.', 'Compact design, real-time alerts, emergency communication features, peace of mind in unsafe areas.'), ('Eco-Friendly Home Cleaner', 'An autonomous robot that uses natural, non-toxic methods for cleaning and disinfecting household surfaces.', 'Sustainable cleaning, non-toxic solutions, scheduled cleaning modes, supports eco-conscious lifestyles.'), ('Virtual Fitness Coach', 'A holographic fitness trainer that offers personalized workouts and real-time feedback in your living room.', 'Interactive workouts, real-time form correction, personalized fitness plans, brings professional trainers to home.'), ('Augmented Reality Fashion Stylist', 'A wearable AR device that suggests clothing and accessory matches, visualizing them on the user through augmented reality.', 'Virtual try-ons, real-time fashion advice, weather integration, enhances personal style with technology.')]\n"
     ]
    }
   ],
   "source": [
    "# list products for retrieval later\n",
    "\n",
    "pattern = re.compile(\n",
    "    r\"\\d+\\.\\s+(.*?)\\n- Description:\\s*(.*?)\\n- Key Selling Points:\\s*(.*?)(?:\\n|$)\",\n",
    "    re.DOTALL\n",
    ")\n",
    "\n",
    "def parse_product_ideas(product_list: str):\n",
    "    return pattern.findall(product_list) #re.findall(r'\\d+\\.\\s+(.*)', product_list)\n",
    "\n",
    "parsed_product_ideas = parse_product_ideas(product_ideas)\n",
    "print(parsed_product_ideas)"
   ]
  },
  {
   "cell_type": "code",
   "execution_count": 10,
   "id": "9c8f87db-d7ef-4963-9151-4fc09ffd4ff2",
   "metadata": {},
   "outputs": [
    {
     "data": {
      "application/vnd.jupyter.widget-view+json": {
       "model_id": "d364425332f0427bad9c049026fa2ad1",
       "version_major": 2,
       "version_minor": 0
      },
      "text/plain": [
       "  0%|          | 0/10 [00:00<?, ?it/s]"
      ]
     },
     "metadata": {},
     "output_type": "display_data"
    },
    {
     "name": "stdout",
     "output_type": "stream",
     "text": [
      "5, 4, 6, 3, 9, 7, 2, 8, 1, 10\n",
      "4, 6, 1, 9, 3, 5, 7, 10, 8, 2\n",
      "4, 6, 9, 5, 3, 8, 2, 10, 1, 7\n",
      "4, 3, 8, 9, 1, 6, 5, 2, 7, 10\n",
      "3, 4, 7, 1, 2, 6, 5, 8, 9, 10\n",
      "4, 5, 9, 3, 7, 1, 6, 10, 8, 2\n",
      "4, 9, 1, 3, 5, 6, 10, 8, 2, 7\n",
      "4, 9, 3, 8, 6, 5, 1, 2, 7, 10\n",
      "4, 5, 3, 8, 1, 6, 9, 2, 7, 10\n",
      "4, 9, 6, 3, 8, 5, 1, 10, 2, 7\n"
     ]
    }
   ],
   "source": [
    "selector_prompt_creator = lambda x: f\"\"\"\n",
    "You are panelist {x} on a group of internal product evaluators that will help determine the direction a robotics company takes in investing in a new consumer gadget.\n",
    "Your objective is to develop a ranking for the list of products provided to you based on your unique experience.\n",
    "Please return the product numbers in a comma separated list, with most preferred product first.\n",
    "\"\"\"\n",
    "\n",
    "def get_voting_results(panelist_id):\n",
    "    chat_window = [\n",
    "        {\n",
    "            \"role\": \"system\",\n",
    "            \"content\": selector_prompt_creator(panelist_id)\n",
    "        },\n",
    "        {\n",
    "            \"role\": \"user\",\n",
    "            \"content\": \"Here are the product ideas:\\n\" + product_ideas\n",
    "        }\n",
    "    ]\n",
    "    \n",
    "    response = client.chat.completions.create(\n",
    "        model = \"gpt-4o\",\n",
    "        messages = chat_window,\n",
    "        store = False\n",
    "    )\n",
    "    \n",
    "    return response.choices[0].message.content\n",
    "\n",
    "results = process_map(get_voting_results, range(1, 11))\n",
    "\n",
    "for result in results:\n",
    "    print(result)"
   ]
  },
  {
   "cell_type": "code",
   "execution_count": 17,
   "id": "a1bb25aa-b6cf-457e-8c03-ab3b868e9b33",
   "metadata": {},
   "outputs": [],
   "source": [
    "# parse results\n",
    "votes = [[int(i) for i in result.split(\", \")] for result in results]"
   ]
  },
  {
   "cell_type": "code",
   "execution_count": 30,
   "id": "0afafa07-83aa-47f8-9847-97d2b1ee4091",
   "metadata": {},
   "outputs": [
    {
     "name": "stdout",
     "output_type": "stream",
     "text": [
      "4. Sleep Optimization Robot\n",
      "A bedside gadget that analyzes sleep patterns and dynamically adjusts room conditions (lighting, sound, temperature) for optimal rest.\n",
      "\n",
      "5. Interactive Language Tutor\n",
      "A portable AI robot that teaches languages through conversation and interactive storytelling.\n",
      "\n",
      "3. Remote Pet Pal\n",
      "An interactive pet companion that plays, feeds, and monitors pets remotely via smartphone app.\n",
      "\n",
      "10. Augmented Reality Fashion Stylist\n",
      "A wearable AR device that suggests clothing and accessory matches, visualizing them on the user through augmented reality.\n",
      "\n",
      "9. Virtual Fitness Coach\n",
      "A holographic fitness trainer that offers personalized workouts and real-time feedback in your living room.\n",
      "\n",
      "8. Eco-Friendly Home Cleaner\n",
      "An autonomous robot that uses natural, non-toxic methods for cleaning and disinfecting household surfaces.\n",
      "\n",
      "7. AI Personal Safety Drone\n",
      "A pocket-sized drone that accompanies the user to provide real-time monitoring and emergency alerts in potentially dangerous situations.\n",
      "\n",
      "6. Smart Kitchen Companion\n",
      "A counter-top assistant that suggests recipes, adjusts ingredient measurements, and monitors cooking progress.\n",
      "\n",
      "2. Autonomous Lawn Sculptor\n",
      "A robotic gardener that automatically trims lawns and shapes topiary designs with precision.\n",
      "\n",
      "1. Smart Wardrobe Assistant\n",
      "An AI-driven wardrobe organizer that suggests outfit combinations based on weather, upcoming events, and personal style preferences.\n",
      "\n"
     ]
    }
   ],
   "source": [
    "# evaluate ranking\n",
    "from collections import Counter\n",
    "\n",
    "def ranked_choice_ranking(votes):\n",
    "    votes = [list(ballot) for ballot in votes]  # copy to avoid modifying input\n",
    "    candidates = set(c for ballot in votes for c in ballot)\n",
    "    elimination_order = []\n",
    "\n",
    "    while len(candidates) > 1:\n",
    "        # Count first-choice votes\n",
    "        first_choices = [ballot[0] for ballot in votes if ballot]\n",
    "        counts = Counter(first_choices)\n",
    "\n",
    "        # Find lowest-vote candidate(s)\n",
    "        min_votes = min(counts[c] for c in candidates)\n",
    "        eliminated = [c for c in candidates if counts.get(c, 0) == min_votes]\n",
    "\n",
    "        # Record elimination\n",
    "        elimination_order.extend(eliminated)\n",
    "\n",
    "        # Remove eliminated from ballots\n",
    "        for ballot in votes:\n",
    "            for e in eliminated:\n",
    "                if e in ballot:\n",
    "                    ballot.remove(e)\n",
    "\n",
    "        candidates -= set(eliminated)\n",
    "\n",
    "    # Last remaining candidate is the winner\n",
    "    elimination_order.extend(candidates)\n",
    "\n",
    "    # Reverse gives 1st → last\n",
    "    return elimination_order[::-1]\n",
    "\n",
    "ranking = ranked_choice_ranking(votes)\n",
    "for i in ranking:\n",
    "    name, description, _ = parsed_product_ideas[i - 1]\n",
    "    print(str(i) + '.', name)\n",
    "    print(description + '\\n')"
   ]
  },
  {
   "cell_type": "code",
   "execution_count": 32,
   "id": "a79f4090-1d48-49d5-b080-3f9f9d4652c9",
   "metadata": {},
   "outputs": [
    {
     "name": "stdout",
     "output_type": "stream",
     "text": [
      "Sleep Optimization Robot\n",
      "A bedside gadget that analyzes sleep patterns and dynamically adjusts room conditions (lighting, sound, temperature) for optimal rest.\n",
      "\n",
      "Interactive Language Tutor\n",
      "A portable AI robot that teaches languages through conversation and interactive storytelling.\n",
      "\n",
      "Remote Pet Pal\n",
      "An interactive pet companion that plays, feeds, and monitors pets remotely via smartphone app.\n",
      "\n",
      "Augmented Reality Fashion Stylist\n",
      "A wearable AR device that suggests clothing and accessory matches, visualizing them on the user through augmented reality.\n",
      "\n"
     ]
    }
   ],
   "source": [
    "advancing_products = 4\n",
    "products = [parsed_product_ideas[i - 1] for i in ranking[:advancing_products]]\n",
    "for name, description, _ in products:\n",
    "    print(name)\n",
    "    print(description + '\\n')"
   ]
  },
  {
   "cell_type": "code",
   "execution_count": 46,
   "id": "df7831de-afce-4d9c-a911-0d092e85fe9a",
   "metadata": {},
   "outputs": [
    {
     "data": {
      "application/vnd.jupyter.widget-view+json": {
       "model_id": "f9f49b193ec44a66919b62d04e7c4414",
       "version_major": 2,
       "version_minor": 0
      },
      "text/plain": [
       "  0%|          | 0/2 [00:00<?, ?it/s]"
      ]
     },
     "metadata": {},
     "output_type": "display_data"
    },
    {
     "data": {
      "application/vnd.jupyter.widget-view+json": {
       "model_id": "c4ceff3292994c2ba1b87f126789b3da",
       "version_major": 2,
       "version_minor": 0
      },
      "text/plain": [
       "  0%|          | 0/2 [00:00<?, ?it/s]"
      ]
     },
     "metadata": {},
     "output_type": "display_data"
    },
    {
     "data": {
      "application/vnd.jupyter.widget-view+json": {
       "model_id": "73861acd1fb247548a5792f3ff62e15e",
       "version_major": 2,
       "version_minor": 0
      },
      "text/plain": [
       "  0%|          | 0/2 [00:00<?, ?it/s]"
      ]
     },
     "metadata": {},
     "output_type": "display_data"
    },
    {
     "data": {
      "application/vnd.jupyter.widget-view+json": {
       "model_id": "190fd2f3a35644639266699940f27edc",
       "version_major": 2,
       "version_minor": 0
      },
      "text/plain": [
       "  0%|          | 0/2 [00:00<?, ?it/s]"
      ]
     },
     "metadata": {},
     "output_type": "display_data"
    },
    {
     "name": "stdout",
     "output_type": "stream",
     "text": [
      "['SomniSmart', '\"Craft Your Perfect Night, One Dream at a Time\"']\n",
      "['HarmonyBot', '\"Crafting Your Perfect Night\\'s Sleep\"']\n",
      "A bedside gadget that analyzes sleep patterns and dynamically adjusts room conditions (lighting, sound, temperature) for optimal rest.\n",
      "\n",
      "['LingoBot Wiz', 'Speak to Learn, Learn to Explore']\n",
      "['LingoBot', '\"Speak Your World, One Story at a Time\"']\n",
      "A portable AI robot that teaches languages through conversation and interactive storytelling.\n",
      "\n",
      "['PetSync', '“Stay Connected, Even When Apart”']\n",
      "['PetLink', '\"Stay Connected, Anytime, Anywhere\"']\n",
      "An interactive pet companion that plays, feeds, and monitors pets remotely via smartphone app.\n",
      "\n",
      "['StyleLens', ' Elevate Your Look, Instantly']\n",
      "['StyleVista', 'Transform Your Look with a Glance']\n",
      "A wearable AR device that suggests clothing and accessory matches, visualizing them on the user through augmented reality.\n",
      "\n"
     ]
    }
   ],
   "source": [
    "# develop marketing assets (brandname, tagline)\n",
    "def create_marketing_assets(data):\n",
    "    product_name, product_description, company = data\n",
    "    CONSULTANT_PROMPT = f\"\"\"\n",
    "    You are a consultant from {company} advising a robotics in launching a new consumer gadget.\n",
    "    Your objective is to develop a brand name and tag line for the new product.\n",
    "    Please leverage your company's unique strengths and perspective to complete this task.\n",
    "    You should format your response as \"[brand name]|[tagline]\"\n",
    "    \"\"\"\n",
    "\n",
    "    chat_window = [\n",
    "        {\n",
    "            \"role\": \"system\",\n",
    "            \"content\": CONSULTANT_PROMPT\n",
    "        },\n",
    "        {\n",
    "            \"role\": \"user\",\n",
    "            \"content\": f'The product is \"{product_name}\" and it is \"{product_description}\"'\n",
    "        }\n",
    "    ]\n",
    "\n",
    "    response = client.chat.completions.create(\n",
    "        model = \"gpt-4o\",\n",
    "        messages = chat_window,\n",
    "        store = False\n",
    "    )\n",
    "\n",
    "    return response.choices[0].message.content\n",
    "\n",
    "marketing_consulting_companies = [\"EY\", \"Bain\"]\n",
    "\n",
    "product_assets = []\n",
    "for name, description, _ in products:\n",
    "    taglines = process_map(create_marketing_assets, [(name, description, company) for company in marketing_consulting_companies])\n",
    "    product_assets.append([tagline.split('|') for tagline in taglines])"
   ]
  },
  {
   "cell_type": "code",
   "execution_count": 48,
   "id": "a1ab26e6-136b-47e9-807e-b6eb8c92f446",
   "metadata": {},
   "outputs": [
    {
     "name": "stdout",
     "output_type": "stream",
     "text": [
      "Sleep Optimization Robot\n",
      "A bedside gadget that analyzes sleep patterns and dynamically adjusts room conditions (lighting, sound, temperature) for optimal rest.\n",
      "1. SomniSmart \"Craft Your Perfect Night, One Dream at a Time\"\n",
      "2. HarmonyBot \"Crafting Your Perfect Night's Sleep\"\n",
      "\n",
      "Interactive Language Tutor\n",
      "A portable AI robot that teaches languages through conversation and interactive storytelling.\n",
      "1. LingoBot Wiz Speak to Learn, Learn to Explore\n",
      "2. LingoBot \"Speak Your World, One Story at a Time\"\n",
      "\n",
      "Remote Pet Pal\n",
      "An interactive pet companion that plays, feeds, and monitors pets remotely via smartphone app.\n",
      "1. PetSync “Stay Connected, Even When Apart”\n",
      "2. PetLink \"Stay Connected, Anytime, Anywhere\"\n",
      "\n",
      "Augmented Reality Fashion Stylist\n",
      "A wearable AR device that suggests clothing and accessory matches, visualizing them on the user through augmented reality.\n",
      "1. StyleLens  Elevate Your Look, Instantly\n",
      "2. StyleVista Transform Your Look with a Glance\n",
      "\n"
     ]
    }
   ],
   "source": [
    "for (name, description, _), assets in zip(products, product_assets):\n",
    "    print(name)\n",
    "    print(description)\n",
    "    for index, (brandname, tagline) in enumerate(assets):\n",
    "        print(f\"{index + 1}.\", brandname, tagline)\n",
    "    print()"
   ]
  }
 ],
 "metadata": {
  "kernelspec": {
   "display_name": "Python 3-12 (COMM4190)",
   "language": "python",
   "name": "python3-12_comm4190"
  },
  "language_info": {
   "codemirror_mode": {
    "name": "ipython",
    "version": 3
   },
   "file_extension": ".py",
   "mimetype": "text/x-python",
   "name": "python",
   "nbconvert_exporter": "python",
   "pygments_lexer": "ipython3",
   "version": "3.12.11"
  }
 },
 "nbformat": 4,
 "nbformat_minor": 5
}
