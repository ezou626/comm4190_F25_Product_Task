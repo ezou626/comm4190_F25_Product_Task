{
 "cells": [
  {
   "cell_type": "code",
   "execution_count": 4,
   "id": "0c171c53-8cf5-4cdd-9f70-c0738df777aa",
   "metadata": {},
   "outputs": [],
   "source": [
    "from openai import OpenAI\n",
    "import os\n",
    "import base64\n",
    "import requests\n",
    "from tqdm import tqdm\n",
    "from IPython.display import FileLink, display\n",
    "from dotenv import load_dotenv\n",
    "from random import shuffle, randint, choice, random\n",
    "# Load API key\n",
    "_ = load_dotenv(\"../comm4190_F25/01_Introduction_and_setup/.env\")\n",
    "client = OpenAI()"
   ]
  },
  {
   "cell_type": "code",
   "execution_count": 2,
   "id": "3733a37c-3d2b-453b-a580-c0d2e8a07484",
   "metadata": {},
   "outputs": [],
   "source": [
    "# prompt for brainstorming ideas\n",
    "SYSTEM_PROMPT = \"\"\"\n",
    "You are a product design expert in a robotics company identifying new opportunities in the market for innovative consumer gadgets.\n",
    "\n",
    "Please return a list of 10 such items in the following format:\n",
    "1. Item Name\n",
    "- Description\n",
    "- Key Selling Points\n",
    "\"\"\""
   ]
  },
  {
   "cell_type": "code",
   "execution_count": 5,
   "id": "2d70d806-2b5d-4361-88aa-2c887f71242c",
   "metadata": {},
   "outputs": [
    {
     "name": "stdout",
     "output_type": "stream",
     "text": [
      "1. PrepMate Countertop Sous-Chef Arm\n",
      "- Description: Compact, food-safe robotic arm with swappable dishwasher-safe tools (knife, scraper, whisk) that sees and handles ingredients, preps food, and cleans the workspace; syncs with recipe apps to time tasks across appliances.\n",
      "- Key Selling Points: Real knife-safe manipulation with force limits; vision-based portioning and allergen-aware workflows; auto-sanitizing UV/tool-wash dock; accessory ecosystem; guided recipe subscription upsell.\n",
      "\n",
      "2. FoldFlow Laundry Sort & Fold Station\n",
      "- Description: Furniture-sized module that ingests a mixed pile, recognizes garments, de-wrinkles with steam, folds to user presets, pairs socks, and dispenses to labeled bins; installs beside washer/dryer.\n",
      "- Key Selling Points: High throughput via conveyor + flipper kinematics; garment ID by vision with optional RFID; quiet, child-safe pinch detection; handles sheets with edge-grab tech; recurring revenue from scent/steam cartridges.\n",
      "\n",
      "3. PanePal Window and Shower Glass Robot\n",
      "- Description: Tethered, dual-suction cleaning bot that traverses windows, mirrors, and shower glass, scrubs mineral build-up, and squeegees edges; weather-aware for exterior sessions.\n",
      "- Key Selling Points: Strong micro-vacuum adhesion; auto-edge detection and droplet management; works on lightly textured glass; anti-scale cleaning cartridge; safer and faster than ladders; consumable refills subscription.\n",
      "\n",
      "4. PupRanger Pet Play and Care Rover\n",
      "- Description: Autonomous floor rover with treat dispenser, tug module, and interchangeable play heads; responds to barks, runs training routines, and supports telepresence for owners away from home.\n",
      "- Key Selling Points: Chew-proof modular shell; emotion and activity detection; obstacle and cord avoidance; multi-pet ID; privacy shuttered cameras; revenue via treat cartridges and training content.\n",
      "\n",
      "5. GaitGuard Smart Walker/Cane\n",
      "- Description: Soft-actuated mobility aid that senses gait, stabilizes on slips, auto-brakes on slopes, and guides around hazards; integrates vitals, fall detection, and caregiver alerts.\n",
      "- Key Selling Points: Clinically informed balance algorithms; indoor “autopilot to room” via beacons; lightweight folding frame; long battery life; potential insurer reimbursement; OTA updates and service plans.\n",
      "\n",
      "6. NiteShift Adaptive Anti-Snore Bed System\n",
      "- Description: Under-pillow and under-mattress soft-robotic bladders that detect snoring/apnea and gently reposition head/torso; pairs with mild heating/cooling for comfort.\n",
      "- Key Selling Points: CPAP-compatible; silent actuation; washable covers; privacy-first on-device analysis; sleep coaching app; potential Class II medical device pathway.\n",
      "\n",
      "7. GroTower Autonomous Kitchen Garden\n",
      "- Description: Counter-to-patio modular vertical garden with robotic seeding, micro-pruning, and camera-based nutrient/pest monitoring; automatic dosing, pH balancing, and harvest prompts.\n",
      "- Key Selling Points: 30+ crops in small footprint; child-safe design; low-maintenance via seed/nutrient pods; AI grow recipes tuned to locale; subscription seeds and nutrients.\n",
      "\n",
      "8. ClutterClear Desk Tidy Bot\n",
      "- Description: Small desktop rover/arm that scans, tags, and returns everyday items to designated spots; includes UV-C sanitize mode for phones, glasses, and remotes.\n",
      "- Key Selling Points: Works with stick-on NFC/magnetic tags; habit-building nudges and routines; privacy-preserving on-device vision; docking valet tray; giftable price point; optional lost-item locator network.\n",
      "\n",
      "9. GripAssist Soft-Robotic Hand Sleeve\n",
      "- Description: Lightweight wearable that augments grip and wrist stability for cooking, DIY, gaming, or arthritis relief; provides intelligent force assistance and tremor damping.\n",
      "- Key Selling Points: Comfortable textile with pneumatic/cable tendons; swappable finger modules; safe back-drivable actuation; wellness/FSA eligible; app-based therapy and training modes.\n",
      "\n",
      "10. PathPilot All-Season Pathway Robot\n",
      "- Description: Battery-electric autonomous rover that clears snow, leaves, and debris from walkways/driveways; maps property, docks for charging, and operates within geofenced zones.\n",
      "- Key Selling Points: Quiet brush/auger modules; kid- and pet-safe sensors; RTK/GNSS + beacon precision; night and storm scheduling; greener than gas blowers; accessories and maintenance plan upsell.\n"
     ]
    }
   ],
   "source": [
    "chat_window = [\n",
    "    {\n",
    "        \"role\": \"system\",\n",
    "        \"content\": SYSTEM_PROMPT\n",
    "    }\n",
    "]\n",
    "\n",
    "response = client.chat.completions.create(\n",
    "    model = \"gpt-5\",\n",
    "    messages = chat_window,\n",
    "    store = False\n",
    ")\n",
    "print(response.choices[0].message.content)"
   ]
  }
 ],
 "metadata": {
  "kernelspec": {
   "display_name": "Python 3-12 (COMM4190)",
   "language": "python",
   "name": "python3-12_comm4190"
  },
  "language_info": {
   "codemirror_mode": {
    "name": "ipython",
    "version": 3
   },
   "file_extension": ".py",
   "mimetype": "text/x-python",
   "name": "python",
   "nbconvert_exporter": "python",
   "pygments_lexer": "ipython3",
   "version": "3.12.11"
  }
 },
 "nbformat": 4,
 "nbformat_minor": 5
}
